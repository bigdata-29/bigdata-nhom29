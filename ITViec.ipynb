{
 "cells": [
  {
   "cell_type": "markdown",
   "id": "1eeaea52",
   "metadata": {},
   "source": []
  },
  {
   "cell_type": "markdown",
   "id": "9105a97c",
   "metadata": {},
   "source": [
    "# Import selenium và webdriver\n",
    "\n",
    "* selenium - webdriver\n",
    "* Beautiful soup\n",
    "* time\n",
    "* webdriver-manager để auto xử lý chrome driver\n",
    " "
   ]
  },
  {
   "cell_type": "code",
   "execution_count": 1,
   "id": "e394b406",
   "metadata": {},
   "outputs": [],
   "source": [
    "from selenium import webdriver\n",
    "from selenium.webdriver.chrome.service import Service\n",
    "from selenium.webdriver.chrome.options import Options\n",
    "from selenium.webdriver.common.by import By\n",
    "from selenium.webdriver.support.ui import WebDriverWait\n",
    "\n",
    "from webdriver_manager.chrome import ChromeDriverManager \n",
    "\n",
    "import time\n",
    "import os\n",
    "\n",
    "from bs4 import BeautifulSoup"
   ]
  },
  {
   "cell_type": "markdown",
   "id": "071949c8",
   "metadata": {},
   "source": [
    "# Đăng nhập và cấu hình driver"
   ]
  },
  {
   "cell_type": "code",
   "execution_count": null,
   "id": "0fcc1fe3",
   "metadata": {},
   "outputs": [],
   "source": [
    "SCREEN_WIDTH = 1920\n",
    "SCREEN_HEIGHT = 1080\n",
    "BATCH_SIZE = 25\n",
    "\n",
    "def setup_driver():\n",
    "    chrome_options = Options()\n",
    "    # Thêm đường dẫn tới Chrome browser\n",
    "    chrome_options.binary_location = \"C:\\\\Program Files\\\\Google\\\\Chrome\\\\Application\\\\chrome.exe\"  # Đường dẫn mặc định của Chrome\n",
    "    \n",
    "    chrome_options.add_argument(\"--app\")\n",
    "    chrome_options.add_argument(f\"--window-size={SCREEN_WIDTH},{SCREEN_HEIGHT}\")\n",
    "    chrome_options.add_argument(\"--window-position=0,0\")\n",
    "    chrome_options.add_experimental_option(\"excludeSwitches\", [\"enable-automation\"])\n",
    "    chrome_options.add_experimental_option('useAutomationExtension', False)\n",
    "    chrome_options.add_argument(\"--disable-blink-features=AutomationControlled\")\n",
    "    chrome_options.add_argument(\n",
    "        \"user-agent=Mozilla/5.0 (Windows NT 10.0; Win64; x64) AppleWebKit/537.36 (KHTML, like Gecko) Chrome/119.0.0.0 Safari/537.36\")\n",
    "    prefs = {\"profile.managed_default_content_settings.images\": 2}\n",
    "    chrome_options.add_experimental_option(\"prefs\", prefs)\n",
    "    chrome_options.add_argument(\"--headless\")\n",
    "    chrome_options.add_argument(\"--disable-gpu\")\n",
    "    chrome_options.add_argument(\"--no-sandbox\")\n",
    "    chrome_options.add_argument(\"--disable-dev-shm-usage\")\n",
    "    chrome_options.add_experimental_option(\"excludeSwitches\", [\"enable-logging\"])\n",
    "    service = Service(ChromeDriverManager().install())\n",
    "    driver = webdriver.Chrome(service=service, options=chrome_options)\n",
    "    driver.execute_script(\"Object.defineProperty(navigator, 'webdriver', {get: () => undefined})\")\n",
    "    return driver"
   ]
  },
  {
   "cell_type": "markdown",
   "id": "9d13b7f7",
   "metadata": {},
   "source": [
    "# Đăng nhập vào web\n",
    "\n",
    "* account: dihidromonooxit01012000@gmail.com\n",
    "* password: 1!Aaaaaaaaaa"
   ]
  },
  {
   "cell_type": "code",
   "execution_count": 3,
   "id": "b481059b",
   "metadata": {},
   "outputs": [],
   "source": [
    "def sign_in(driver, email, password):\n",
    "    driver.get(\"https://itviec.com/sign_in\")\n",
    "\n",
    "    time.sleep(2)\n",
    "\n",
    "    email_input = driver.find_element(By.NAME, \"user[email]\")\n",
    "    password_input = driver.find_element(By.NAME, \"user[password]\")\n",
    "\n",
    "    email_input.send_keys(email)\n",
    "    password_input.send_keys(password)\n",
    "\n",
    "    submit_button = driver.find_element(By.XPATH, \"//button[@type='submit']\")\n",
    "    submit_button.click()\n",
    "\n",
    "    time.sleep(5)\n",
    "    print(\"Đăng nhập thành công!\")"
   ]
  },
  {
   "cell_type": "markdown",
   "id": "e58245f4",
   "metadata": {},
   "source": [
    "# Test cào thử cái gì đó\n"
   ]
  },
  {
   "cell_type": "code",
   "execution_count": 4,
   "id": "8b95a721",
   "metadata": {},
   "outputs": [],
   "source": [
    "def test_crawl(driver):\n",
    "    driver.get(\"https://itviec.com/it-jobs\")\n",
    "    time.sleep(5)\n",
    "    test = driver.page_source\n",
    "    print(\"Truy cập trang chủ ITviec thành công!\")\n",
    "    print(test[:500])  # In ra 500 ký tự đầu tiên của trang để kiểm tra"
   ]
  },
  {
   "cell_type": "code",
   "execution_count": 5,
   "id": "acee802c",
   "metadata": {},
   "outputs": [
    {
     "ename": "WebDriverException",
     "evalue": "Message: unknown error: cannot find Chrome binary\nStacktrace:\nBacktrace:\n\tGetHandleVerifier [0x00CDA813+48355]\n\t(No symbol) [0x00C6C4B1]\n\t(No symbol) [0x00B75358]\n\t(No symbol) [0x00B91A9E]\n\t(No symbol) [0x00B90579]\n\t(No symbol) [0x00BC0C55]\n\t(No symbol) [0x00BC093C]\n\t(No symbol) [0x00BBA536]\n\t(No symbol) [0x00B982DC]\n\t(No symbol) [0x00B993DD]\n\tGetHandleVerifier [0x00F3AABD+2539405]\n\tGetHandleVerifier [0x00F7A78F+2800735]\n\tGetHandleVerifier [0x00F7456C+2775612]\n\tGetHandleVerifier [0x00D651E0+616112]\n\t(No symbol) [0x00C75F8C]\n\t(No symbol) [0x00C72328]\n\t(No symbol) [0x00C7240B]\n\t(No symbol) [0x00C64FF7]\n\tBaseThreadInitThunk [0x75845D49+25]\n\tRtlInitializeExceptionChain [0x77E1D6DB+107]\n\tRtlGetAppContainerNamedObjectPath [0x77E1D661+561]\n",
     "output_type": "error",
     "traceback": [
      "\u001b[31m---------------------------------------------------------------------------\u001b[39m",
      "\u001b[31mWebDriverException\u001b[39m                        Traceback (most recent call last)",
      "\u001b[36mCell\u001b[39m\u001b[36m \u001b[39m\u001b[32mIn[5]\u001b[39m\u001b[32m, line 1\u001b[39m\n\u001b[32m----> \u001b[39m\u001b[32m1\u001b[39m driver =\u001b[43msetup_driver\u001b[49m\u001b[43m(\u001b[49m\u001b[43m)\u001b[49m\n\u001b[32m      2\u001b[39m sign_in(driver, \u001b[33m\"\u001b[39m\u001b[33mdihidromonooxit01012000@gmail.com\u001b[39m\u001b[33m\"\u001b[39m, \u001b[33m\"\u001b[39m\u001b[33m1!Aaaaaaaaaa\u001b[39m\u001b[33m\"\u001b[39m)\n\u001b[32m      3\u001b[39m test_crawl(driver)\n",
      "\u001b[36mCell\u001b[39m\u001b[36m \u001b[39m\u001b[32mIn[2]\u001b[39m\u001b[32m, line 23\u001b[39m, in \u001b[36msetup_driver\u001b[39m\u001b[34m()\u001b[39m\n\u001b[32m     21\u001b[39m chrome_options.add_experimental_option(\u001b[33m\"\u001b[39m\u001b[33mexcludeSwitches\u001b[39m\u001b[33m\"\u001b[39m, [\u001b[33m\"\u001b[39m\u001b[33menable-logging\u001b[39m\u001b[33m\"\u001b[39m])\n\u001b[32m     22\u001b[39m service = Service(ChromeDriverManager().install())\n\u001b[32m---> \u001b[39m\u001b[32m23\u001b[39m driver = \u001b[43mwebdriver\u001b[49m\u001b[43m.\u001b[49m\u001b[43mChrome\u001b[49m\u001b[43m(\u001b[49m\u001b[43mservice\u001b[49m\u001b[43m=\u001b[49m\u001b[43mservice\u001b[49m\u001b[43m,\u001b[49m\u001b[43m \u001b[49m\u001b[43moptions\u001b[49m\u001b[43m=\u001b[49m\u001b[43mchrome_options\u001b[49m\u001b[43m)\u001b[49m\n\u001b[32m     24\u001b[39m driver.execute_script(\u001b[33m\"\u001b[39m\u001b[33mObject.defineProperty(navigator, \u001b[39m\u001b[33m'\u001b[39m\u001b[33mwebdriver\u001b[39m\u001b[33m'\u001b[39m\u001b[33m, \u001b[39m\u001b[33m{\u001b[39m\u001b[33mget: () => undefined})\u001b[39m\u001b[33m\"\u001b[39m)\n\u001b[32m     25\u001b[39m \u001b[38;5;28;01mreturn\u001b[39;00m driver\n",
      "\u001b[36mFile \u001b[39m\u001b[32md:\\code language\\anaconda3\\envs\\my_env3\\Lib\\site-packages\\selenium\\webdriver\\chrome\\webdriver.py:45\u001b[39m, in \u001b[36mWebDriver.__init__\u001b[39m\u001b[34m(self, options, service, keep_alive)\u001b[39m\n\u001b[32m     42\u001b[39m service = service \u001b[38;5;28;01mif\u001b[39;00m service \u001b[38;5;28;01melse\u001b[39;00m Service()\n\u001b[32m     43\u001b[39m options = options \u001b[38;5;28;01mif\u001b[39;00m options \u001b[38;5;28;01melse\u001b[39;00m Options()\n\u001b[32m---> \u001b[39m\u001b[32m45\u001b[39m \u001b[38;5;28;43msuper\u001b[39;49m\u001b[43m(\u001b[49m\u001b[43m)\u001b[49m\u001b[43m.\u001b[49m\u001b[34;43m__init__\u001b[39;49m\u001b[43m(\u001b[49m\n\u001b[32m     46\u001b[39m \u001b[43m    \u001b[49m\u001b[43mbrowser_name\u001b[49m\u001b[43m=\u001b[49m\u001b[43mDesiredCapabilities\u001b[49m\u001b[43m.\u001b[49m\u001b[43mCHROME\u001b[49m\u001b[43m[\u001b[49m\u001b[33;43m\"\u001b[39;49m\u001b[33;43mbrowserName\u001b[39;49m\u001b[33;43m\"\u001b[39;49m\u001b[43m]\u001b[49m\u001b[43m,\u001b[49m\n\u001b[32m     47\u001b[39m \u001b[43m    \u001b[49m\u001b[43mvendor_prefix\u001b[49m\u001b[43m=\u001b[49m\u001b[33;43m\"\u001b[39;49m\u001b[33;43mgoog\u001b[39;49m\u001b[33;43m\"\u001b[39;49m\u001b[43m,\u001b[49m\n\u001b[32m     48\u001b[39m \u001b[43m    \u001b[49m\u001b[43moptions\u001b[49m\u001b[43m=\u001b[49m\u001b[43moptions\u001b[49m\u001b[43m,\u001b[49m\n\u001b[32m     49\u001b[39m \u001b[43m    \u001b[49m\u001b[43mservice\u001b[49m\u001b[43m=\u001b[49m\u001b[43mservice\u001b[49m\u001b[43m,\u001b[49m\n\u001b[32m     50\u001b[39m \u001b[43m    \u001b[49m\u001b[43mkeep_alive\u001b[49m\u001b[43m=\u001b[49m\u001b[43mkeep_alive\u001b[49m\u001b[43m,\u001b[49m\n\u001b[32m     51\u001b[39m \u001b[43m\u001b[49m\u001b[43m)\u001b[49m\n",
      "\u001b[36mFile \u001b[39m\u001b[32md:\\code language\\anaconda3\\envs\\my_env3\\Lib\\site-packages\\selenium\\webdriver\\chromium\\webdriver.py:66\u001b[39m, in \u001b[36mChromiumDriver.__init__\u001b[39m\u001b[34m(self, browser_name, vendor_prefix, options, service, keep_alive)\u001b[39m\n\u001b[32m     57\u001b[39m executor = ChromiumRemoteConnection(\n\u001b[32m     58\u001b[39m     remote_server_addr=\u001b[38;5;28mself\u001b[39m.service.service_url,\n\u001b[32m     59\u001b[39m     browser_name=browser_name,\n\u001b[32m   (...)\u001b[39m\u001b[32m     62\u001b[39m     ignore_proxy=options._ignore_local_proxy,\n\u001b[32m     63\u001b[39m )\n\u001b[32m     65\u001b[39m \u001b[38;5;28;01mtry\u001b[39;00m:\n\u001b[32m---> \u001b[39m\u001b[32m66\u001b[39m     \u001b[38;5;28;43msuper\u001b[39;49m\u001b[43m(\u001b[49m\u001b[43m)\u001b[49m\u001b[43m.\u001b[49m\u001b[34;43m__init__\u001b[39;49m\u001b[43m(\u001b[49m\u001b[43mcommand_executor\u001b[49m\u001b[43m=\u001b[49m\u001b[43mexecutor\u001b[49m\u001b[43m,\u001b[49m\u001b[43m \u001b[49m\u001b[43moptions\u001b[49m\u001b[43m=\u001b[49m\u001b[43moptions\u001b[49m\u001b[43m)\u001b[49m\n\u001b[32m     67\u001b[39m \u001b[38;5;28;01mexcept\u001b[39;00m \u001b[38;5;167;01mException\u001b[39;00m:\n\u001b[32m     68\u001b[39m     \u001b[38;5;28mself\u001b[39m.quit()\n",
      "\u001b[36mFile \u001b[39m\u001b[32md:\\code language\\anaconda3\\envs\\my_env3\\Lib\\site-packages\\selenium\\webdriver\\remote\\webdriver.py:212\u001b[39m, in \u001b[36mWebDriver.__init__\u001b[39m\u001b[34m(self, command_executor, keep_alive, file_detector, options)\u001b[39m\n\u001b[32m    210\u001b[39m \u001b[38;5;28mself\u001b[39m._authenticator_id = \u001b[38;5;28;01mNone\u001b[39;00m\n\u001b[32m    211\u001b[39m \u001b[38;5;28mself\u001b[39m.start_client()\n\u001b[32m--> \u001b[39m\u001b[32m212\u001b[39m \u001b[38;5;28;43mself\u001b[39;49m\u001b[43m.\u001b[49m\u001b[43mstart_session\u001b[49m\u001b[43m(\u001b[49m\u001b[43mcapabilities\u001b[49m\u001b[43m)\u001b[49m\n\u001b[32m    214\u001b[39m \u001b[38;5;28mself\u001b[39m._websocket_connection = \u001b[38;5;28;01mNone\u001b[39;00m\n\u001b[32m    215\u001b[39m \u001b[38;5;28mself\u001b[39m._script = \u001b[38;5;28;01mNone\u001b[39;00m\n",
      "\u001b[36mFile \u001b[39m\u001b[32md:\\code language\\anaconda3\\envs\\my_env3\\Lib\\site-packages\\selenium\\webdriver\\remote\\webdriver.py:299\u001b[39m, in \u001b[36mWebDriver.start_session\u001b[39m\u001b[34m(self, capabilities)\u001b[39m\n\u001b[32m    292\u001b[39m \u001b[38;5;250m\u001b[39m\u001b[33;03m\"\"\"Creates a new session with the desired capabilities.\u001b[39;00m\n\u001b[32m    293\u001b[39m \n\u001b[32m    294\u001b[39m \u001b[33;03m:Args:\u001b[39;00m\n\u001b[32m    295\u001b[39m \u001b[33;03m - capabilities - a capabilities dict to start the session with.\u001b[39;00m\n\u001b[32m    296\u001b[39m \u001b[33;03m\"\"\"\u001b[39;00m\n\u001b[32m    298\u001b[39m caps = _create_caps(capabilities)\n\u001b[32m--> \u001b[39m\u001b[32m299\u001b[39m response = \u001b[38;5;28;43mself\u001b[39;49m\u001b[43m.\u001b[49m\u001b[43mexecute\u001b[49m\u001b[43m(\u001b[49m\u001b[43mCommand\u001b[49m\u001b[43m.\u001b[49m\u001b[43mNEW_SESSION\u001b[49m\u001b[43m,\u001b[49m\u001b[43m \u001b[49m\u001b[43mcaps\u001b[49m\u001b[43m)\u001b[49m[\u001b[33m\"\u001b[39m\u001b[33mvalue\u001b[39m\u001b[33m\"\u001b[39m]\n\u001b[32m    300\u001b[39m \u001b[38;5;28mself\u001b[39m.session_id = response.get(\u001b[33m\"\u001b[39m\u001b[33msessionId\u001b[39m\u001b[33m\"\u001b[39m)\n\u001b[32m    301\u001b[39m \u001b[38;5;28mself\u001b[39m.caps = response.get(\u001b[33m\"\u001b[39m\u001b[33mcapabilities\u001b[39m\u001b[33m\"\u001b[39m)\n",
      "\u001b[36mFile \u001b[39m\u001b[32md:\\code language\\anaconda3\\envs\\my_env3\\Lib\\site-packages\\selenium\\webdriver\\remote\\webdriver.py:354\u001b[39m, in \u001b[36mWebDriver.execute\u001b[39m\u001b[34m(self, driver_command, params)\u001b[39m\n\u001b[32m    352\u001b[39m response = \u001b[38;5;28mself\u001b[39m.command_executor.execute(driver_command, params)\n\u001b[32m    353\u001b[39m \u001b[38;5;28;01mif\u001b[39;00m response:\n\u001b[32m--> \u001b[39m\u001b[32m354\u001b[39m     \u001b[38;5;28;43mself\u001b[39;49m\u001b[43m.\u001b[49m\u001b[43merror_handler\u001b[49m\u001b[43m.\u001b[49m\u001b[43mcheck_response\u001b[49m\u001b[43m(\u001b[49m\u001b[43mresponse\u001b[49m\u001b[43m)\u001b[49m\n\u001b[32m    355\u001b[39m     response[\u001b[33m\"\u001b[39m\u001b[33mvalue\u001b[39m\u001b[33m\"\u001b[39m] = \u001b[38;5;28mself\u001b[39m._unwrap_value(response.get(\u001b[33m\"\u001b[39m\u001b[33mvalue\u001b[39m\u001b[33m\"\u001b[39m, \u001b[38;5;28;01mNone\u001b[39;00m))\n\u001b[32m    356\u001b[39m     \u001b[38;5;28;01mreturn\u001b[39;00m response\n",
      "\u001b[36mFile \u001b[39m\u001b[32md:\\code language\\anaconda3\\envs\\my_env3\\Lib\\site-packages\\selenium\\webdriver\\remote\\errorhandler.py:229\u001b[39m, in \u001b[36mErrorHandler.check_response\u001b[39m\u001b[34m(self, response)\u001b[39m\n\u001b[32m    227\u001b[39m         alert_text = value[\u001b[33m\"\u001b[39m\u001b[33malert\u001b[39m\u001b[33m\"\u001b[39m].get(\u001b[33m\"\u001b[39m\u001b[33mtext\u001b[39m\u001b[33m\"\u001b[39m)\n\u001b[32m    228\u001b[39m     \u001b[38;5;28;01mraise\u001b[39;00m exception_class(message, screen, stacktrace, alert_text)  \u001b[38;5;66;03m# type: ignore[call-arg]  # mypy is not smart enough here\u001b[39;00m\n\u001b[32m--> \u001b[39m\u001b[32m229\u001b[39m \u001b[38;5;28;01mraise\u001b[39;00m exception_class(message, screen, stacktrace)\n",
      "\u001b[31mWebDriverException\u001b[39m: Message: unknown error: cannot find Chrome binary\nStacktrace:\nBacktrace:\n\tGetHandleVerifier [0x00CDA813+48355]\n\t(No symbol) [0x00C6C4B1]\n\t(No symbol) [0x00B75358]\n\t(No symbol) [0x00B91A9E]\n\t(No symbol) [0x00B90579]\n\t(No symbol) [0x00BC0C55]\n\t(No symbol) [0x00BC093C]\n\t(No symbol) [0x00BBA536]\n\t(No symbol) [0x00B982DC]\n\t(No symbol) [0x00B993DD]\n\tGetHandleVerifier [0x00F3AABD+2539405]\n\tGetHandleVerifier [0x00F7A78F+2800735]\n\tGetHandleVerifier [0x00F7456C+2775612]\n\tGetHandleVerifier [0x00D651E0+616112]\n\t(No symbol) [0x00C75F8C]\n\t(No symbol) [0x00C72328]\n\t(No symbol) [0x00C7240B]\n\t(No symbol) [0x00C64FF7]\n\tBaseThreadInitThunk [0x75845D49+25]\n\tRtlInitializeExceptionChain [0x77E1D6DB+107]\n\tRtlGetAppContainerNamedObjectPath [0x77E1D661+561]\n"
     ]
    }
   ],
   "source": [
    "driver =setup_driver()\n",
    "sign_in(driver, \"dihidromonooxit01012000@gmail.com\", \"1!Aaaaaaaaaa\")\n",
    "test_crawl(driver)"
   ]
  },
  {
   "cell_type": "code",
   "execution_count": null,
   "id": "33f1ea50",
   "metadata": {},
   "outputs": [],
   "source": []
  },
  {
   "cell_type": "markdown",
   "id": "4df8e8b4",
   "metadata": {},
   "source": [
    "# Tìm kiếm tất cả các link title công việc"
   ]
  },
  {
   "cell_type": "markdown",
   "id": "3414101f",
   "metadata": {},
   "source": [
    "lấy trường data-search--job-selection-job-url-value ở trong các thẻ .job-card ở trong thẻ .card-jobs-list    "
   ]
  },
  {
   "cell_type": "code",
   "execution_count": 6,
   "id": "e33bdfd5",
   "metadata": {},
   "outputs": [],
   "source": [
    "def find_url_title_job(driver, search_keyword, num_pages):\n",
    "    job_links = []\n",
    "    base_url = \"https://itviec.com/it-jobs\"\n",
    "    for page in range(1, num_pages + 1):\n",
    "        search_url = f\"{base_url}?search={search_keyword}&page={page}\"\n",
    "        driver.get(search_url)\n",
    "        time.sleep(3)\n",
    "\n",
    "        soup = BeautifulSoup(driver.page_source, 'html.parser')\n",
    "        job_cards = soup.find_all('a', class_='job-link')\n",
    "\n",
    "        for job_card in job_cards:\n",
    "            job_link = \"https://itviec.com\" + job_card['href']\n",
    "            job_links.append(job_link)\n",
    "\n",
    "        print(f\"Đã thu thập {len(job_links)} liên kết công việc từ trang {page}\")\n",
    "\n",
    "    return job_links"
   ]
  }
 ],
 "metadata": {
  "kernelspec": {
   "display_name": "my_env3",
   "language": "python",
   "name": "python3"
  },
  "language_info": {
   "codemirror_mode": {
    "name": "ipython",
    "version": 3
   },
   "file_extension": ".py",
   "mimetype": "text/x-python",
   "name": "python",
   "nbconvert_exporter": "python",
   "pygments_lexer": "ipython3",
   "version": "3.11.13"
  }
 },
 "nbformat": 4,
 "nbformat_minor": 5
}
